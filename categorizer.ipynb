{
 "cells": [
  {
   "cell_type": "code",
   "execution_count": null,
   "id": "490fbbb3",
   "metadata": {},
   "outputs": [],
   "source": [
    "from autogen_ext.models.openai import OpenAIChatCompletionClient\n",
    "import os\n",
    "from dotenv import load_dotenv\n"
   ]
  },
  {
   "cell_type": "code",
   "execution_count": null,
   "id": "a7d6211a",
   "metadata": {},
   "outputs": [],
   "source": [
    "load_dotenv()"
   ]
  },
  {
   "cell_type": "code",
   "execution_count": null,
   "id": "34ce5c75",
   "metadata": {},
   "outputs": [],
   "source": [
    "# Model configuration\n",
    "ANTHROPIC_MODEL = os.getenv(\"ANTHROPIC_MODEL\", \"claude-sonnet-4-20250514\")\n",
    "ANTHROPIC_API_KEY = os.getenv(\"ANTHROPIC_API_KEY\")\n",
    "OPENAI_MODEL = os.getenv(\"OPENAI_MODEL\", \"gpt-4.1\")  \n",
    "OPENAI_API_KEY = os.getenv(\"OPENAI_API_KEY2\")\n",
    "\n",
    "# Directory configuration\n",
    "TEMP_DIR = \"temp\""
   ]
  },
  {
   "cell_type": "code",
   "execution_count": null,
   "id": "6adb01c5",
   "metadata": {},
   "outputs": [],
   "source": [
    "CATEGORIZER_SYSTEM_MESSAGE = \"\"\"\n",
    "You are an AI financial analyst. Your purpose is to categorize financial transactions into a few broad categories.\n",
    "\n",
    "You will receive a JSON object that contains:\n",
    "1. 'transactions_by_cardholder': a dictionary where each key is a cardholder name and    the value is a list of transaction objects.\n",
    "2. 'summary': a dictionary with account summary data.\n",
    "\n",
    "Your job:\n",
    "- Return the exact same JSON object structure.\n",
    "- Do NOT remove or rename any keys.\n",
    "- Do NOT modify the 'summary' section.\n",
    "- Inside 'transactions_by_cardholder', for each transaction object, add a new key-value   pair: \"category\": \"Category Name\".\n",
    "\n",
    "CRITICAL RULES:\n",
    "Use ONLY the 6 categories defined below.\n",
    "For payments, refunds, and fees, use the Financial Transactions category.\n",
    "If a description is too vague, use Uncategorized.\n",
    "\n",
    "CATEGORY DEFINITIONS:\n",
    "Food & Dining: All food-related spending. This includes both groceries from supermarkets and purchases from restaurants, cafes, bars, and food delivery services.\n",
    "Merchandise & Services: A broad category for general shopping and personal care. This includes retail stores, online marketplaces (like Amazon), electronics, clothing, hobbies, entertainment, streaming services (Netflix), gym memberships, and drugstores (CVS).\n",
    "Bills & Subscriptions: Recurring charges for essential services. This primarily includes utilities (phone, internet) and insurance payments.\n",
    "Travel & Transportation: Costs for getting around. This includes daily transport (gas stations, Uber, public transit) and long-distance travel (airlines, hotels, rental cars).\n",
    "Financial Transactions: All non-spending activities that affect your balance. This includes payments made to your account, refunds from merchants, statement credits, and any fees or interest charges.\n",
    "Uncategorized: For any transaction that does not clearly fit into the categories above.\n",
    "\n",
    "Output ONLY the JSON with categories added. Do not include any explanations or markdown formatting. Once you output the categorized JSON, you are done - do not continue the conversation.\n",
    "\"\"\""
   ]
  },
  {
   "cell_type": "code",
   "execution_count": null,
   "id": "cf8da8dc",
   "metadata": {},
   "outputs": [],
   "source": [
    "def get_openai_client():\n",
    "    \"\"\"Get configured OpenAI model client.\"\"\"\n",
    "    return OpenAIChatCompletionClient(\n",
    "        model=OPENAI_MODEL, \n",
    "        api_key=OPENAI_API_KEY\n",
    "    )\n"
   ]
  },
  {
   "cell_type": "code",
   "execution_count": null,
   "id": "d78bfccf",
   "metadata": {},
   "outputs": [],
   "source": [
    "model_client = get_openai_client()\n",
    "\n",
    "# Code executor\n",
    "code_executor = DockerCommandLineCodeExecutor(\n",
    "    work_dir=TEMP_DIR,\n",
    "    image=\"amancevice/pandas\",  \n",
    "    )\n",
    "await code_executor.start()"
   ]
  },
  {
   "cell_type": "code",
   "execution_count": null,
   "id": "df661947",
   "metadata": {},
   "outputs": [],
   "source": [
    "# STAGE 2: Categorizer processes the parsed JSON\n",
    "# --- Categorizer Agent ---\n",
    "categorizer_agent = AssistantAgent(\n",
    "    name=\"categorizer\",\n",
    "    model_client=model_client,\n",
    "    system_message=CATEGORIZER_SYSTEM_MESSAGE,\n",
    "    reflect_on_tool_use=False\n",
    "        )\n",
    "\n",
    "categorizer_task = TextMessage(\n",
    "    content=f\"Here is the parsed JSON to categorize:\\n```json\\n{json.dumps(parsed_json, indent=2)}\\n```\",\n",
    "    source=\"user\"\n",
    ")\n",
    "\n",
    "max_message_termination = MaxMessageTermination(max_messages=5)\n",
    "\n",
    "categorizer_team = RoundRobinGroupChat(\n",
    "    participants=[categorizer_agent],\n",
    "    termination_condition=max_message_termination\n",
    ")\n",
    "\n",
    "categorization_result = await Console(categorizer_team.run_stream(task=categorizer_task))\n",
    "\n",
    "# Stop executor safely\n",
    "await code_executor.stop()\n",
    "\n",
    "# Search categorization result for final JSON\n",
    "final_parsed_json = None\n",
    "\n",
    "# Check categorizer messages first\n",
    "for msg in categorization_result.messages:\n",
    "    src = getattr(msg, \"source\", \"\")\n",
    "    content = getattr(msg, \"content\", None)\n",
    "    try:\n",
    "        content_str = content if isinstance(content, str) else str(content)\n",
    "    except Exception:\n",
    "        content_str = None\n",
    "\n",
    "    if not content_str:\n",
    "        continue\n",
    "\n",
    "    if src == \"categorizer\":\n",
    "        final_parsed_json = extract_json_from_text(content_str)\n",
    "        if final_parsed_json is not None:\n",
    "            break"
   ]
  },
  {
   "cell_type": "code",
   "execution_count": null,
   "id": "68b358a7",
   "metadata": {},
   "outputs": [],
   "source": []
  },
  {
   "cell_type": "code",
   "execution_count": null,
   "id": "7594c774",
   "metadata": {},
   "outputs": [],
   "source": []
  },
  {
   "cell_type": "code",
   "execution_count": null,
   "id": "a1ac3c7c",
   "metadata": {},
   "outputs": [],
   "source": []
  },
  {
   "cell_type": "code",
   "execution_count": null,
   "metadata": {},
   "outputs": [],
   "source": []
  },
  {
   "cell_type": "code",
   "execution_count": null,
   "metadata": {},
   "outputs": [],
   "source": []
  }
 ],
 "metadata": {
  "language_info": {
   "name": "python"
  }
 },
 "nbformat": 4,
 "nbformat_minor": 5
}
